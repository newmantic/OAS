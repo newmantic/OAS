{
  "nbformat": 4,
  "nbformat_minor": 0,
  "metadata": {
    "colab": {
      "provenance": [],
      "authorship_tag": "ABX9TyMkQ5Yv6L7BR3AH7Xcj9tn4",
      "include_colab_link": true
    },
    "kernelspec": {
      "name": "python3",
      "display_name": "Python 3"
    },
    "language_info": {
      "name": "python"
    }
  },
  "cells": [
    {
      "cell_type": "markdown",
      "metadata": {
        "id": "view-in-github",
        "colab_type": "text"
      },
      "source": [
        "<a href=\"https://colab.research.google.com/github/newmantic/OAS/blob/main/OAS.ipynb\" target=\"_parent\"><img src=\"https://colab.research.google.com/assets/colab-badge.svg\" alt=\"Open In Colab\"/></a>"
      ]
    },
    {
      "cell_type": "code",
      "execution_count": 1,
      "metadata": {
        "colab": {
          "base_uri": "https://localhost:8080/"
        },
        "id": "u_7T4hsdsQfi",
        "outputId": "0edcd2d5-284c-48d2-e7df-31a4d987b130"
      },
      "outputs": [
        {
          "output_type": "stream",
          "name": "stdout",
          "text": [
            "Initial Bond Price without Options: 1151.99\n",
            "OAS Adjusted Bond Price: 1136.99\n"
          ]
        }
      ],
      "source": [
        "import numpy as np\n",
        "\n",
        "# Example bond characteristics\n",
        "face_value = 1000  # Face value of the bond\n",
        "coupon_rate = 0.05  # Annual coupon rate (5%)\n",
        "years_to_maturity = 10  # Years to maturity\n",
        "benchmark_yield_curve = 0.03  # Example flat yield curve at 3%\n",
        "oas_initial_guess = 0.002  # Initial guess for OAS (20 basis points)\n",
        "option_value = 15  # Assumed option value for callable bond (in currency units)\n",
        "\n",
        "def bond_price(face_value, coupon_rate, discount_rate, years_to_maturity):\n",
        "    \"\"\"Calculates the price of a bond without options.\"\"\"\n",
        "    coupon = face_value * coupon_rate\n",
        "    present_value_coupons = np.sum([coupon / (1 + discount_rate)**t for t in range(1, years_to_maturity + 1)])\n",
        "    present_value_face_value = face_value / (1 + discount_rate)**years_to_maturity\n",
        "    return present_value_coupons + present_value_face_value\n",
        "\n",
        "def calculate_oas(face_value, coupon_rate, benchmark_yield_curve, oas, years_to_maturity, option_value):\n",
        "    \"\"\"Calculates the OAS by adjusting bond price for the option value.\"\"\"\n",
        "    adjusted_yield = benchmark_yield_curve + oas\n",
        "    bond_price_without_option = bond_price(face_value, coupon_rate, adjusted_yield, years_to_maturity)\n",
        "    bond_price_with_option = bond_price_without_option - option_value\n",
        "    return bond_price_with_option\n",
        "\n",
        "# Testable Example\n",
        "initial_bond_price = bond_price(face_value, coupon_rate, benchmark_yield_curve + oas_initial_guess, years_to_maturity)\n",
        "oas_adjusted_bond_price = calculate_oas(face_value, coupon_rate, benchmark_yield_curve, oas_initial_guess, years_to_maturity, option_value)\n",
        "\n",
        "print(f\"Initial Bond Price without Options: {initial_bond_price:.2f}\")\n",
        "print(f\"OAS Adjusted Bond Price: {oas_adjusted_bond_price:.2f}\")"
      ]
    }
  ]
}